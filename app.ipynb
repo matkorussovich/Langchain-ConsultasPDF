{
 "cells": [
  {
   "cell_type": "code",
   "execution_count": 1,
   "metadata": {},
   "outputs": [],
   "source": [
    "import os \n",
    "from dotenv import load_dotenv\n",
    "\n",
    "load_dotenv()\n",
    "\n",
    "OPENAI_API_KEY = os.getenv('OPENAI_API_KEY')\n",
    "MODEL = \"gpt-3.5-turbo\""
   ]
  },
  {
   "cell_type": "code",
   "execution_count": 2,
   "metadata": {},
   "outputs": [
    {
     "data": {
      "text/plain": [
       "'¿Por qué los pájaros no usan Facebook?\\n\\nPorque ya tienen Twitter.'"
      ]
     },
     "execution_count": 2,
     "metadata": {},
     "output_type": "execute_result"
    }
   ],
   "source": [
    "from langchain_openai.chat_models import ChatOpenAI\n",
    "from langchain_openai.embeddings import OpenAIEmbeddings\n",
    "\n",
    "model = ChatOpenAI(api_key=OPENAI_API_KEY, model=MODEL)\n",
    "embeddings = OpenAIEmbeddings()\n",
    "\n",
    "respuesta = model.invoke(\"Contame un chiste\").content\n",
    "respuesta\n"
   ]
  },
  {
   "cell_type": "code",
   "execution_count": 3,
   "metadata": {},
   "outputs": [],
   "source": [
    "from langchain_community.document_loaders import PyPDFLoader\n",
    "\n",
    "loader = PyPDFLoader(\"Proyecto 044-23 Arraigada Russovich V2.pdf\")\n",
    "pages = loader.load_and_split()\n"
   ]
  },
  {
   "cell_type": "code",
   "execution_count": 5,
   "metadata": {},
   "outputs": [
    {
     "data": {
      "text/plain": [
       "'\\nResponde la pregunta basandote en el contexto proporcionado debajo. Si no puedes responder la pregunta, contesta \"No lo sé\".\\n\\nContexto: aca hay un contexto!\\n\\nPregunta: esta es una pregunta.\\n'"
      ]
     },
     "execution_count": 5,
     "metadata": {},
     "output_type": "execute_result"
    }
   ],
   "source": [
    "from langchain.prompts import PromptTemplate\n",
    "\n",
    "template = \"\"\"\n",
    "Responde la pregunta basandote en el contexto proporcionado debajo. Si no puedes responder la pregunta, contesta \"No lo sé\".\n",
    "\n",
    "Contexto: {context}\n",
    "\n",
    "Pregunta: {question}\n",
    "\"\"\"\n",
    "\n",
    "prompt = PromptTemplate.from_template(template)\n",
    "prompt.format(context=\"aca hay un contexto!\", question=\"esta es una pregunta.\")"
   ]
  },
  {
   "cell_type": "code",
   "execution_count": 6,
   "metadata": {},
   "outputs": [],
   "source": [
    "chain = prompt | model"
   ]
  },
  {
   "cell_type": "code",
   "execution_count": 7,
   "metadata": {},
   "outputs": [
    {
     "data": {
      "text/plain": [
       "AIMessage(content='La mejor empresa emprendedora en Argentina es Efibud.', response_metadata={'token_usage': {'completion_tokens': 14, 'prompt_tokens': 67, 'total_tokens': 81}, 'model_name': 'gpt-3.5-turbo', 'system_fingerprint': None, 'finish_reason': 'stop', 'logprobs': None}, id='run-b843f713-f77b-4d64-867d-05108021a172-0')"
      ]
     },
     "execution_count": 7,
     "metadata": {},
     "output_type": "execute_result"
    }
   ],
   "source": [
    "chain.invoke(\n",
    "    {\n",
    "        \"context\":\"La mejor startup de Argentina es Efibud.\",\n",
    "        \"question\":\"Cual es la mejor empresa emprendedora en argentina?\"\n",
    "    }\n",
    ")"
   ]
  },
  {
   "cell_type": "code",
   "execution_count": 8,
   "metadata": {},
   "outputs": [
    {
     "data": {
      "text/plain": [
       "{'title': 'PromptInput',\n",
       " 'type': 'object',\n",
       " 'properties': {'context': {'title': 'Context', 'type': 'string'},\n",
       "  'question': {'title': 'Question', 'type': 'string'}}}"
      ]
     },
     "execution_count": 8,
     "metadata": {},
     "output_type": "execute_result"
    }
   ],
   "source": [
    "chain.input_schema.schema()"
   ]
  },
  {
   "cell_type": "code",
   "execution_count": 9,
   "metadata": {},
   "outputs": [],
   "source": [
    "from langchain_community.vectorstores import DocArrayInMemorySearch\n",
    "\n",
    "vectorstore = DocArrayInMemorySearch.from_documents(pages, embedding=embeddings)"
   ]
  },
  {
   "cell_type": "code",
   "execution_count": 12,
   "metadata": {},
   "outputs": [
    {
     "data": {
      "text/plain": [
       "[Document(page_content='“Estudio de la capacidad y mejoras de las operaciones en una empresa de catering”  \\nAutores: Javier I. Arraigada – Matko I. Russovich         Página 36 de 57 las instalaciones, cualquier incremento en la demanda (ya sea por nuevos contratos con \\ncomedores o incrementos de ventas de viandas) podría requerir una expansión o una \\noptimización de procesos para evitar déficits.  \\n \\nEn cuanto a los eventos, se puede concluir que los recursos disponibles superan  ampliamente a \\nlos necesarios, lo cual indica una capacidad ociosa considerable. Este excedente ofrece una \\noportunidad estratégica para que la empresa explore nuevos mercados o para intentar aumentar \\nel volumen de negocios en eventos sin necesidad de inver sión adicional en capacidad. Sin \\nembargo, también representa un desperdicio considerable de recursos y, por lo tanto, una \\noportunidad de ahorro.', metadata={'source': 'Proyecto 044-23 Arraigada Russovich V2.pdf', 'page': 39}),\n",
       " Document(page_content='“Estudio de la capacidad y mejoras de las operaciones en una empresa de catering”  \\nAutores: Javier I. Arraigada – Matko I. Russovich         Página 9 de 57 Debilidades : \\n \\n● Dificultad para determinar el precio final de un evento debido a la poca disponibilidad \\nde información de los costos.  \\n● Falta de estandarización de recetas y procesos.  \\n● Desconocimiento de su capacidad máxima de producción.  \\n● Falta de política óptima de compras y de inventario.  \\n \\nAmenazas : \\n \\n● Perder parte del mercado debido a la alta competencia del rubro.  \\n● Situación económica del país.  \\n● Alta rotación de personal y faltante de empleados calificados.  \\n● Riesgo de perder contratos con comedores y salones.  \\n● Cambio de costumbres del consumidor.  \\n2.6 Descripción del problema  \\nLa Empresa no conoce con precisión cuál es la capacidad instalada de la cocina central y \\ntampoco conoce cuál es la capacidad requerida de acuerdo a la dema nda. Si bien la Empresa \\ndispone de datos de ventas históricas, estos no son analizados ni estudiados para la toma de \\ndecisiones. Actualmente, las decisiones son tomadas basadas en la experiencia previa. Hoy en \\ndía, la Empresa no conoce con exactitud cuál e s la cantidad máxima de viandas puede producir \\ny distribuir en el día. Tampoco tienen la capacidad de determinar la cantidad de eventos, platos \\ny comensales que pueden atender en un fin de semana.  \\n \\nPor lo tanto, esto trae las siguientes consecuencias:  \\n \\n- Dificultad para determinar la cantidad de personal necesario.  \\n- Dificultad para definir correctas políticas de compra y puntos de reposición de \\nmercadería. Esto hace que la empresa tenga que resolver apresuradamente estas \\ncuestiones, incurriendo en altos costos .  \\n- Desconocer la máxima cantidad de comedores que es posible atender.  \\n- Al no estudiar la demanda puede ocurrir que, debido a faltantes de capacidad de la \\nEmpresa, los clientes elijan a la competencia.  \\n \\nEn el presente trabajo nos vamos a concentrar en estudiar la capacidad instalada de la cocina \\ncentral y compararla con la capacidad requerida según la demanda, con el fin de determinar \\noportunidades de mejora que le permitan a la Empresa ahorrar costos en el caso de que existan \\nrecursos ociosos. Por otro  lado, si la capacidad instalada se encuentra por debajo de la requerida, \\nanalizaremos alternativas para optimizar los procesos productivos más relevantes para lograr \\nun aumento de la capacidad.  \\n2.7 Objetivos  \\nObjetivo general: Evaluar la diferencia que exi ste entre la capacidad instalada y la capacidad \\nrequerida de la cocina central, en función de la demanda de los tres clientes internos.  \\n \\nObjetivos específicos:  \\n- Investigar y estudiar las tres fuentes de demanda en función de los datos históricos.  \\n- Deter minar la capacidad real de producción de la cocina central.', metadata={'source': 'Proyecto 044-23 Arraigada Russovich V2.pdf', 'page': 12}),\n",
       " Document(page_content='“Estudio de la capacidad y mejoras de las operaciones en una empresa de catering”  \\nAutores: Javier I. Arraigada – Matko I. Russovich         Página 45 de 57 La apertura de esta nueva unidad de negocio no solo aprovecharía la capacidad ociosa, sino que \\ntambién permitiría a la empresa entrar en un mercado en crecimiento, satisfaciendo las \\ndemandas contemporáneas de conveniencia y calidad. Esta iniciativa podr ía no solo mejorar la \\nrentabilidad de la empresa sino también fortalecer su posición en el mercado.', metadata={'source': 'Proyecto 044-23 Arraigada Russovich V2.pdf', 'page': 48}),\n",
       " Document(page_content='“Estudio de la capacidad y mejoras de las operaciones en una empresa de catering”  \\nAutores: Javier I. Arraigada – Matko I. Russovich         Página 46 de 57 8. CONCLUSIONES  \\n \\nEn el transcurso de este proyecto, se ha llevado a cabo un relevamiento de la situación actual \\nde la empresa, la metodología de trabajo y el funcionamiento de las distintas unidades de \\nnegocio. Se recopilaron datos de ventas históricas que fueron fundamentales para llevar a cabo \\nun análisis que, a su vez, permitió obtener una estimación de la capacidad requerida. Este \\nanálisis proporcionó un a visión integral de las tendencias y patrones estacionales que influyen \\nen el comportamiento de la demanda en el contexto estudiado y logró una comprensión más \\nprofunda de los factores que la impulsan.  \\n \\nAdemás, para el caso de los eventos, fue posible llevar a cabo un pronóstico de las ventas \\nutilizando el Método de Descomposición Aditiva que permitió reforzar la estimación de esta \\ncapacidad. El método utilizado para el cálculo del pronóstico ha demostrad o ser altamente \\nefectivo, especialmente en comparación con el Método de Holt Winters Aditivo. Los \\nindicadores de desempeño evaluados, como el Error Medio (ME), el Error Cuadrático Medio \\n(RMSE), el Error Absoluto Medio (MAE), entre otros, han mostrado consi stentemente un mejor \\nrendimiento para el Método de Descomposición Aditiva. Esto resalta la importancia de \\ncomprender y modelar adecuadamente la estacionalidad y la tendencia al realizar pronósticos \\nde demanda.  \\n \\nEl análisis de los residuos generados por el Método de Descomposición Aditiva ha sido \\nfundamental para evaluar la calidad del ajuste del modelo a los datos. Las pruebas de hipótesis \\nrealizadas y detalladas en el anexo de este trabajo han proporcionado suficiente evidencia \\nestadística de que estos res iduos pueden considerarse Ruidos Blancos Gaussianos. Este hallazgo \\nsugiere que el modelo captura de manera efectiva la estructura subyacente de los datos de \\ndemanda y no deja patrones significativos sin explicar.  \\n \\nLuego, tomando como referencia un plato re presentativo, se llevó a cabo un análisis del proceso \\nde elaboración de dicho plato con el fin de obtener una estimación de la capacidad instalada. \\nEsto dió lugar, naturalmente, a la comparación entre la capacidad requerida y la capacidad \\ninstalada estimad a, permitiendo concluir que la capacidad instalada para la unidad de negocio \\nde viandas y comedores podría verse afectada ante un leve incremento de la demanda, mientras \\nque para el caso de la unidad de negocio de eventos, se cuenta con capacidad ociosa qu e puede \\nser aprovechada.  \\n \\nAdemás, se realizó un análisis sobre la capacidad de distribución con la que cuenta la empresa \\nactualmente. El objetivo fue determinar si existe alguna restricción en este aspecto y si es \\nposible afrontar las tareas de distribució n ante un eventual aumento de la demanda. Se encontró \\nque si bien se cuenta con suficientes recursos para el transporte de productos, la distribución \\npodría verse limitada en caso de comenzar a trabajar con un nuevo comedor.  \\n \\nPor último, teniendo en cuenta  toda la información relevada, se listaron y detallaron distintas \\nsugerencias y oportunidades de mejora para la empresa con el fin de aumentar su productividad.  \\n \\nSe sugiere que este estudio sea replicado con otros productos, como distintos platos \\nrepresent ativos, y que el proceso sea estandarizado para comparar las capacidades instaladas \\ncontra las requeridas en diferentes momentos. Esto implicaría utilizar el análisis de las ventas \\nregistradas y los pronósticos generados para ajustar adecuadamente la plani ficación de las \\noperaciones.', metadata={'source': 'Proyecto 044-23 Arraigada Russovich V2.pdf', 'page': 49})]"
      ]
     },
     "execution_count": 12,
     "metadata": {},
     "output_type": "execute_result"
    }
   ],
   "source": [
    "retriever = vectorstore.as_retriever()\n",
    "retriever.invoke(\"Como está la capacidad de la empresa? Estan ajustados?\")"
   ]
  },
  {
   "cell_type": "code",
   "execution_count": 19,
   "metadata": {},
   "outputs": [
    {
     "name": "stdout",
     "output_type": "stream",
     "text": [
      "Se concluye que el análisis de la demanda permitió obtener una estimación de la capacidad requerida, lo que proporcionó una visión integral de las tendencias y patrones estacionales que influyen en el comportamiento de la demanda. Además, se logró una comprensión más profunda de los factores que la impulsan, lo que ha sido fundamental para mejorar la capacidad de anticipar y satisfacer las necesidades del mercado de manera eficiente y rentable.\n"
     ]
    }
   ],
   "source": [
    "from operator import itemgetter\n",
    "\n",
    "chain = (\n",
    "    {\n",
    "        \"context\": itemgetter(\"question\") | retriever, # Trae el contexto usando la pregunta que le pasamos.\n",
    "        \"question\": itemgetter(\"question\")\n",
    "    }\n",
    "    | prompt\n",
    "    | model\n",
    ")\n",
    "\n",
    "respuesta = chain.invoke({\"question\":\"Que se concluye del analisis de la demanda?\"})\n",
    "print(respuesta.content)"
   ]
  },
  {
   "cell_type": "code",
   "execution_count": null,
   "metadata": {},
   "outputs": [],
   "source": []
  }
 ],
 "metadata": {
  "kernelspec": {
   "display_name": ".venv",
   "language": "python",
   "name": "python3"
  },
  "language_info": {
   "codemirror_mode": {
    "name": "ipython",
    "version": 3
   },
   "file_extension": ".py",
   "mimetype": "text/x-python",
   "name": "python",
   "nbconvert_exporter": "python",
   "pygments_lexer": "ipython3",
   "version": "3.11.9"
  }
 },
 "nbformat": 4,
 "nbformat_minor": 2
}
